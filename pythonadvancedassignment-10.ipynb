{
 "cells": [
  {
   "cell_type": "markdown",
   "id": "f55c0df1",
   "metadata": {},
   "source": [
    "Q1. What is the difference between __getattr__ and __getattribute__?\n",
    "\n",
    "Q2. What is the difference between properties and descriptors?\n",
    "\n",
    "Q3. What are the key differences in functionality between __getattr__ and __getattribute__, as well as\n",
    "properties and descriptors?"
   ]
  },
  {
   "cell_type": "markdown",
   "id": "e69d0b65",
   "metadata": {},
   "source": [
    "__getattr__ is called only when an attribute is not found in the usual ways. It is useful for implementing a fallback for missing attributes. On the other hand, __getattribute__ is called every time an attribute is accessed, regardless of whether it exists or not."
   ]
  },
  {
   "cell_type": "markdown",
   "id": "96f78e5a",
   "metadata": {},
   "source": [
    "Properties are a specialized descriptor that provides a simple way to return a computed value from an attribute read or to call a function on an attribute write. Descriptors are a low-level mechanism that lets you hook into an object’s attributes being accessed."
   ]
  },
  {
   "cell_type": "markdown",
   "id": "540e5440",
   "metadata": {},
   "source": [
    "__getattr__ is called when an attribute is not found by the usual means, i.e., it is not an instance attribute or a class attribute. It is useful for implementing a fallback for missing attributes. On the other hand, __getattribute__ is called for every attribute access, regardless of whether the attribute exists or not.\n",
    "\n",
    " Properties are useful when you want to add some extra processing to the getting or setting of an attribute .\n",
    "\n",
    "A descriptor is another way to customize attribute access in Python. It allows you to define how an attribute is accessed, set, or deleted in a class. Descriptors are more powerful than properties because they can be used to define more complex behaviors for attributes ."
   ]
  }
 ],
 "metadata": {
  "kernelspec": {
   "display_name": "Python 3 (ipykernel)",
   "language": "python",
   "name": "python3"
  },
  "language_info": {
   "codemirror_mode": {
    "name": "ipython",
    "version": 3
   },
   "file_extension": ".py",
   "mimetype": "text/x-python",
   "name": "python",
   "nbconvert_exporter": "python",
   "pygments_lexer": "ipython3",
   "version": "3.9.12"
  }
 },
 "nbformat": 4,
 "nbformat_minor": 5
}
